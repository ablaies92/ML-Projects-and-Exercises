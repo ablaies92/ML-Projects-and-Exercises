{
 "cells": [
  {
   "cell_type": "code",
   "execution_count": 11,
   "metadata": {},
   "outputs": [],
   "source": [
    "# this is an experimental notebook for connecting to the Kraken API\n",
    "# the goal is to create a trading bot that could serve as a means to automate my trading stategy\n",
    "\n",
    "import pandas as pd\n",
    "import numpy as np\n",
    "import os\n",
    "import time\n",
    "import requests\n",
    "import urllib.parse\n",
    "import hashlib\n",
    "import hmac\n",
    "import base64\n",
    "\n",
    "# Kraken Keys and URL\n",
    "# API KEY - \n",
    "api_key = 'vycGuEGu1fJFjDIo43a7V9di5/xAzmxbWqUocgwfEizQ+gKnJgvHdA/S'\n",
    "\n",
    "# PRIVATE KEY -\n",
    "secret_key = 'U5TtNBFmUXdV6/mW3KB/5F6hCU6cjaR1ddq703rcQLDeBl9kA7hMh3qTghXnZGfCY1Kdfs4rK/imYUWzzZn05g=='\n",
    "\n",
    "# API url - \n",
    "api_url = \"https://api.kraken.com\"\n"
   ]
  },
  {
   "cell_type": "code",
   "execution_count": 12,
   "metadata": {},
   "outputs": [],
   "source": [
    "def get_kraken_signature(urlpath, data, secret):\n",
    "    postdata = urllib.parse.urlencode(data)\n",
    "    encoded = (str(data['nonce']) + postdata).encode()\n",
    "    message = urlpath.encode() + hashlib.sha256(encoded).digest()\n",
    "    \n",
    "    mac = hmac.new(base64.b64decode(secret_key), message, hashlib.sha512)\n",
    "    sigdigest = base64.b64encode(mac.digest())\n",
    "    return sigdigest.decode()"
   ]
  },
  {
   "cell_type": "code",
   "execution_count": 15,
   "metadata": {},
   "outputs": [],
   "source": [
    "def kraken_request(url_path, data, api_key, api_sec):\n",
    "    headers = {\"API-Key\": api_key, \"API-Sign\": get_kraken_signature(url_path, data, api_sec)}\n",
    "    resp = requests.post((api_url + url_path), headers = headers, data = data)\n",
    "    return resp\n",
    "\n",
    "    "
   ]
  },
  {
   "cell_type": "code",
   "execution_count": 16,
   "metadata": {},
   "outputs": [
    {
     "name": "stdout",
     "output_type": "stream",
     "text": [
      "{'error': [], 'result': {}}\n"
     ]
    }
   ],
   "source": [
    "# obtaining my account balance\n",
    "resp = kraken_request(\"/0/private/Balance\",\n",
    "                     {\"nonce\": str(int(1000 * time.time()))},\n",
    "                      api_key, secret_key)\n",
    "print(resp.json())\n",
    "                                                                                          "
   ]
  },
  {
   "cell_type": "code",
   "execution_count": 18,
   "metadata": {},
   "outputs": [
    {
     "name": "stdout",
     "output_type": "stream",
     "text": [
      "{'error': [], 'result': {'count': 0, 'trades': {}}}\n"
     ]
    }
   ],
   "source": [
    "# trading history \n",
    "resp_trade = resp = kraken_request(\"/0/private/TradesHistory\",\n",
    "                     {\"nonce\": str(int(1000 * time.time()))},\n",
    "                      api_key, secret_key)\n",
    "\n",
    "print(resp_trade.json())"
   ]
  },
  {
   "cell_type": "code",
   "execution_count": 22,
   "metadata": {},
   "outputs": [
    {
     "name": "stdout",
     "output_type": "stream",
     "text": [
      "{'error': ['EOrder:Insufficient funds']}\n"
     ]
    }
   ],
   "source": [
    "# limit sell order example\n",
    "\n",
    "resp_order_sell = kraken_request(\"/0/private/AddOrder\", \n",
    "                     {\"nonce\": str(int(1000 * time.time())),\n",
    "                      \"ordertype\": \"limit\", \n",
    "                      \"type\": \"sell\",\n",
    "                      \"volume\": 1.25,\n",
    "                      \"pair\": \"XBTUSD\",\n",
    "                      \"price\": 27500},\n",
    "                      api_key, secret_key)\n",
    "\n",
    "print(resp_order_sell.json())"
   ]
  },
  {
   "cell_type": "code",
   "execution_count": 23,
   "metadata": {},
   "outputs": [
    {
     "name": "stdout",
     "output_type": "stream",
     "text": [
      "{'error': ['EOrder:Insufficient funds']}\n"
     ]
    }
   ],
   "source": [
    "# market buy order example\n",
    "\n",
    "resp_order_buy = kraken_request(\"/0/private/AddOrder\", \n",
    "                     {\"nonce\": str(int(1000 * time.time())),\n",
    "                      \"ordertype\": \"market\", \n",
    "                      \"type\": \"buy\",\n",
    "                      \"volume\": 0.01,\n",
    "                      \"pair\": \"XBTUSD\",\n",
    "                      \"price\": 27500},\n",
    "                      api_key, secret_key)\n",
    "\n",
    "print(resp_order_buy.json())"
   ]
  },
  {
   "cell_type": "code",
   "execution_count": 24,
   "metadata": {},
   "outputs": [
    {
     "name": "stdout",
     "output_type": "stream",
     "text": [
      "{'error': [], 'result': {'count': 0}}\n"
     ]
    }
   ],
   "source": [
    "# cancel all orders\n",
    "\n",
    "resp_cancel = kraken_request(\"/0/private/CancelAll\", \n",
    "                     {\"nonce\": str(int(1000 * time.time()))},\n",
    "                      api_key, secret_key)\n",
    "\n",
    "print(resp_cancel.json())"
   ]
  },
  {
   "cell_type": "code",
   "execution_count": null,
   "metadata": {},
   "outputs": [],
   "source": [
    "# example of a simple trading strategy\n",
    "\n",
    "buy_limit = 38000\n",
    "sell_limit = 39000\n",
    "buy_amount = 0.01\n",
    "sell_amount = 0.01\n",
    "\n",
    "while True:\n",
    "    current_price = requests.get(\"https://api.kraken.com/0/public/Ticker?pair=BTCUSD\").json()['result']['XXBTZUSD']['c'][0]\n",
    "    #print(current_price)\n",
    "    #time.sleep(1)\n",
    "    if float(current_price) < buy_limit:\n",
    "        print(f\"Buying {buy_amount} of BTC at {current_price}!\")\n",
    "        \n",
    "        resp_order_buy_ = kraken_request(\"/0/private/AddOrder\", \n",
    "                     {\"nonce\": str(int(1000 * time.time())),\n",
    "                      \"ordertype\": \"limit\", \n",
    "                      \"type\": \"buy\",\n",
    "                      \"volume\": buy_amount,\n",
    "                      \"pair\": \"XBTUSD\"},\n",
    "                      api_key, secret_key)\n",
    "        \n",
    "        # true when list is empty, false when error is present\n",
    "        if not resp.json()['error']:\n",
    "            print(\"Successfully bought BTC!\")\n",
    "        else:\n",
    "            print(f\"Error: {resp.json()['error']}\")\n",
    "        "
   ]
  },
  {
   "cell_type": "code",
   "execution_count": null,
   "metadata": {},
   "outputs": [],
   "source": []
  }
 ],
 "metadata": {
  "kernelspec": {
   "display_name": "Python 3",
   "language": "python",
   "name": "python3"
  },
  "language_info": {
   "codemirror_mode": {
    "name": "ipython",
    "version": 3
   },
   "file_extension": ".py",
   "mimetype": "text/x-python",
   "name": "python",
   "nbconvert_exporter": "python",
   "pygments_lexer": "ipython3",
   "version": "3.8.5"
  }
 },
 "nbformat": 4,
 "nbformat_minor": 4
}
