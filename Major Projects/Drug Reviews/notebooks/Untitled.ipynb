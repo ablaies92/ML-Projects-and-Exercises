{
 "cells": [
  {
   "cell_type": "code",
   "execution_count": null,
   "metadata": {},
   "outputs": [],
   "source": [
    "# Problem 2 - Sports Team Optimization\n",
    "You are in charge of assembling a sports team with a budget constraint. You wish to pick\n",
    "the team that gives you the best chance of winning (by scoring the most points). Use the\n",
    "provided data to create a team picking system that optimizes for expected points,\n",
    "constrained by budget (B – nonnegative float), and number of players on a team (lower\n",
    "bound M, upper bound N – nonnegative integers).\n",
    "More formally:\n",
    "Maximize:\n",
    "- Expected points\n",
    "Subject to:\n",
    "- Total cost (sum of salaries paid) <= B\n",
    "- Number of players chosen <= N\n",
    "- Number of players chosen >= M\n",
    "Output: Work in a Jupyter notebook, R markdown file, or script detailing your process"
   ]
  },
  {
   "cell_type": "code",
   "execution_count": null,
   "metadata": {},
   "outputs": [],
   "source": [
    "# importing the initial libraries/packages required for reading in the data and performing based transformations\n",
    "\n",
    "%matplotlib notebook\n",
    "import numpy as np # linear algebra\n",
    "import pandas as pd # data processing, CSV file I/O (e.g. pd.read_csv)\n",
    "import matplotlib.pyplot as plt\n",
    "import seaborn as sns # rich visualizations\n",
    "\n",
    "# showing the folder structure/path to raw data\n",
    "import os\n",
    "for dirname, _, filenames in os.walk('/Users/alexanderblaies/Desktop'):\n",
    "    for filename in filenames:\n",
    "        print(os.path.join(dirname, filename))"
   ]
  },
  {
   "cell_type": "code",
   "execution_count": null,
   "metadata": {},
   "outputs": [],
   "source": [
    "sports_df = pd.read_csv('/Users/alexanderblaies/Desktop/sports_data.csv')\n",
    "sports_df.head(5)"
   ]
  },
  {
   "cell_type": "code",
   "execution_count": null,
   "metadata": {},
   "outputs": [],
   "source": []
  }
 ],
 "metadata": {
  "kernelspec": {
   "display_name": "Python 3",
   "language": "python",
   "name": "python3"
  },
  "language_info": {
   "codemirror_mode": {
    "name": "ipython",
    "version": 3
   },
   "file_extension": ".py",
   "mimetype": "text/x-python",
   "name": "python",
   "nbconvert_exporter": "python",
   "pygments_lexer": "ipython3",
   "version": "3.8.5"
  }
 },
 "nbformat": 4,
 "nbformat_minor": 4
}
