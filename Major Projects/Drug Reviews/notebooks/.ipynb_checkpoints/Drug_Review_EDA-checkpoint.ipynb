{
 "cells": [
  {
   "cell_type": "markdown",
   "metadata": {},
   "source": [
    "## <div align=\"center\"> PROBLEM IDENTIFICATION: SENTIMENT ANALYSIS\n",
    "### Attempt to predict a consumer's numerical rating of a drug (dependent variable) based on the other parameters defined within the dataset (independent variables)\n",
    "#### *side note: I will be conducting some in-depth EDA that is unrelated to the NLP problem at hand; I would just like to explore the comparisons between similar drugs as well as their subjective efficacy (individual and aggregated responses from consumers)\n",
    "   \n",
    "<a href=\"Intended hyperlink\">![Pills](https://assets.technologynetworks.com/production/dynamic/images/content/353503/nine-existing-drugs-reduce-sars-cov-2-viral-load-in-cell-based-study-353503-1280x720.webp?cb=11408532)</a>"
   ]
  },
  {
   "cell_type": "code",
   "execution_count": 3,
   "metadata": {},
   "outputs": [
    {
     "name": "stderr",
     "output_type": "stream",
     "text": [
      "/Users/alexanderblaies/opt/anaconda3/lib/python3.8/site-packages/distributed/config.py:20: YAMLLoadWarning: calling yaml.load() without Loader=... is deprecated, as the default Loader is unsafe. Please read https://msg.pyyaml.org/load for full details.\n",
      "  defaults = yaml.load(f)\n"
     ]
    },
    {
     "name": "stdout",
     "output_type": "stream",
     "text": [
      "/Users/alexanderblaies/Desktop/ML Projects and Exercises/Major Projects/Drug Reviews/data/raw_data/.DS_Store\n",
      "/Users/alexanderblaies/Desktop/ML Projects and Exercises/Major Projects/Drug Reviews/data/raw_data/drugsComTrain_raw.csv\n",
      "/Users/alexanderblaies/Desktop/ML Projects and Exercises/Major Projects/Drug Reviews/data/raw_data/drugsComTest_raw.csv\n"
     ]
    }
   ],
   "source": [
    "# importing the initial libraries/packages required for reading in the data and performing based transformations\n",
    "# some things to look into -\n",
    "# 1. Classification: Can you predict the patient's condition based on the review?\n",
    "# 2. Regression: Can you predict the rating of the drug based on the review?\n",
    "# 3. Sentiment analysis: What elements of a review make it more helpful to others? \n",
    "#    Which patients tend to have more negative reviews? \n",
    "#    Can you determine if a review is positive, neutral, or negative?\n",
    "\n",
    "%matplotlib notebook\n",
    "import numpy as np # linear algebra\n",
    "import pandas as pd # data processing, CSV file I/O (e.g. pd.read_csv)\n",
    "import matplotlib.pyplot as plt\n",
    "import seaborn as sns\n",
    "import mitosheet # more interactive way to view the dataframe \n",
    "\n",
    "# showing the folder structure/path to raw data\n",
    "import os\n",
    "for dirname, _, filenames in os.walk('/Users/alexanderblaies/Desktop/ML Projects and Exercises/Major Projects/Drug Reviews/data/raw_data'):\n",
    "    for filename in filenames:\n",
    "        print(os.path.join(dirname, filename))\n"
   ]
  },
  {
   "cell_type": "code",
   "execution_count": 5,
   "metadata": {},
   "outputs": [
    {
     "data": {
      "text/html": [
       "<div>\n",
       "<style scoped>\n",
       "    .dataframe tbody tr th:only-of-type {\n",
       "        vertical-align: middle;\n",
       "    }\n",
       "\n",
       "    .dataframe tbody tr th {\n",
       "        vertical-align: top;\n",
       "    }\n",
       "\n",
       "    .dataframe thead th {\n",
       "        text-align: right;\n",
       "    }\n",
       "</style>\n",
       "<table border=\"1\" class=\"dataframe\">\n",
       "  <thead>\n",
       "    <tr style=\"text-align: right;\">\n",
       "      <th></th>\n",
       "      <th>uniqueID</th>\n",
       "      <th>drugName</th>\n",
       "      <th>condition</th>\n",
       "      <th>review</th>\n",
       "      <th>rating</th>\n",
       "      <th>date</th>\n",
       "      <th>usefulCount</th>\n",
       "    </tr>\n",
       "  </thead>\n",
       "  <tbody>\n",
       "    <tr>\n",
       "      <th>0</th>\n",
       "      <td>206461</td>\n",
       "      <td>Valsartan</td>\n",
       "      <td>Left Ventricular Dysfunction</td>\n",
       "      <td>\"It has no side effect, I take it in combinati...</td>\n",
       "      <td>9</td>\n",
       "      <td>20-May-12</td>\n",
       "      <td>27</td>\n",
       "    </tr>\n",
       "    <tr>\n",
       "      <th>1</th>\n",
       "      <td>95260</td>\n",
       "      <td>Guanfacine</td>\n",
       "      <td>ADHD</td>\n",
       "      <td>\"My son is halfway through his fourth week of ...</td>\n",
       "      <td>8</td>\n",
       "      <td>27-Apr-10</td>\n",
       "      <td>192</td>\n",
       "    </tr>\n",
       "    <tr>\n",
       "      <th>2</th>\n",
       "      <td>92703</td>\n",
       "      <td>Lybrel</td>\n",
       "      <td>Birth Control</td>\n",
       "      <td>\"I used to take another oral contraceptive, wh...</td>\n",
       "      <td>5</td>\n",
       "      <td>14-Dec-09</td>\n",
       "      <td>17</td>\n",
       "    </tr>\n",
       "    <tr>\n",
       "      <th>3</th>\n",
       "      <td>138000</td>\n",
       "      <td>Ortho Evra</td>\n",
       "      <td>Birth Control</td>\n",
       "      <td>\"This is my first time using any form of birth...</td>\n",
       "      <td>8</td>\n",
       "      <td>3-Nov-15</td>\n",
       "      <td>10</td>\n",
       "    </tr>\n",
       "    <tr>\n",
       "      <th>4</th>\n",
       "      <td>35696</td>\n",
       "      <td>Buprenorphine / naloxone</td>\n",
       "      <td>Opiate Dependence</td>\n",
       "      <td>\"Suboxone has completely turned my life around...</td>\n",
       "      <td>9</td>\n",
       "      <td>27-Nov-16</td>\n",
       "      <td>37</td>\n",
       "    </tr>\n",
       "    <tr>\n",
       "      <th>5</th>\n",
       "      <td>155963</td>\n",
       "      <td>Cialis</td>\n",
       "      <td>Benign Prostatic Hyperplasia</td>\n",
       "      <td>\"2nd day on 5mg started to work with rock hard...</td>\n",
       "      <td>2</td>\n",
       "      <td>28-Nov-15</td>\n",
       "      <td>43</td>\n",
       "    </tr>\n",
       "    <tr>\n",
       "      <th>6</th>\n",
       "      <td>165907</td>\n",
       "      <td>Levonorgestrel</td>\n",
       "      <td>Emergency Contraception</td>\n",
       "      <td>\"He pulled out, but he cummed a bit in me. I t...</td>\n",
       "      <td>1</td>\n",
       "      <td>7-Mar-17</td>\n",
       "      <td>5</td>\n",
       "    </tr>\n",
       "    <tr>\n",
       "      <th>7</th>\n",
       "      <td>102654</td>\n",
       "      <td>Aripiprazole</td>\n",
       "      <td>Bipolar Disorde</td>\n",
       "      <td>\"Abilify changed my life. There is hope. I was...</td>\n",
       "      <td>10</td>\n",
       "      <td>14-Mar-15</td>\n",
       "      <td>32</td>\n",
       "    </tr>\n",
       "    <tr>\n",
       "      <th>8</th>\n",
       "      <td>74811</td>\n",
       "      <td>Keppra</td>\n",
       "      <td>Epilepsy</td>\n",
       "      <td>\" I Ve had  nothing but problems with the Kepp...</td>\n",
       "      <td>1</td>\n",
       "      <td>9-Aug-16</td>\n",
       "      <td>11</td>\n",
       "    </tr>\n",
       "    <tr>\n",
       "      <th>9</th>\n",
       "      <td>48928</td>\n",
       "      <td>Ethinyl estradiol / levonorgestrel</td>\n",
       "      <td>Birth Control</td>\n",
       "      <td>\"I had been on the pill for many years. When m...</td>\n",
       "      <td>8</td>\n",
       "      <td>8-Dec-16</td>\n",
       "      <td>1</td>\n",
       "    </tr>\n",
       "  </tbody>\n",
       "</table>\n",
       "</div>"
      ],
      "text/plain": [
       "   uniqueID                            drugName                     condition  \\\n",
       "0    206461                           Valsartan  Left Ventricular Dysfunction   \n",
       "1     95260                          Guanfacine                          ADHD   \n",
       "2     92703                              Lybrel                 Birth Control   \n",
       "3    138000                          Ortho Evra                 Birth Control   \n",
       "4     35696            Buprenorphine / naloxone             Opiate Dependence   \n",
       "5    155963                              Cialis  Benign Prostatic Hyperplasia   \n",
       "6    165907                      Levonorgestrel       Emergency Contraception   \n",
       "7    102654                        Aripiprazole               Bipolar Disorde   \n",
       "8     74811                              Keppra                      Epilepsy   \n",
       "9     48928  Ethinyl estradiol / levonorgestrel                 Birth Control   \n",
       "\n",
       "                                              review  rating       date  \\\n",
       "0  \"It has no side effect, I take it in combinati...       9  20-May-12   \n",
       "1  \"My son is halfway through his fourth week of ...       8  27-Apr-10   \n",
       "2  \"I used to take another oral contraceptive, wh...       5  14-Dec-09   \n",
       "3  \"This is my first time using any form of birth...       8   3-Nov-15   \n",
       "4  \"Suboxone has completely turned my life around...       9  27-Nov-16   \n",
       "5  \"2nd day on 5mg started to work with rock hard...       2  28-Nov-15   \n",
       "6  \"He pulled out, but he cummed a bit in me. I t...       1   7-Mar-17   \n",
       "7  \"Abilify changed my life. There is hope. I was...      10  14-Mar-15   \n",
       "8  \" I Ve had  nothing but problems with the Kepp...       1   9-Aug-16   \n",
       "9  \"I had been on the pill for many years. When m...       8   8-Dec-16   \n",
       "\n",
       "   usefulCount  \n",
       "0           27  \n",
       "1          192  \n",
       "2           17  \n",
       "3           10  \n",
       "4           37  \n",
       "5           43  \n",
       "6            5  \n",
       "7           32  \n",
       "8           11  \n",
       "9            1  "
      ]
     },
     "execution_count": 5,
     "metadata": {},
     "output_type": "execute_result"
    }
   ],
   "source": [
    "# 1 - DATA LOADING and INITIAL DISCOVERY/INSPECTION\n",
    "# 1a initial loading and inspection of the training dataset\n",
    "\n",
    "drug_df = pd.read_csv('/Users/alexanderblaies/Desktop/ML Projects and Exercises/Major Projects/Drug Reviews/data/raw_data/drugsComTrain_raw.csv')\n",
    "drug_df.head(10)"
   ]
  },
  {
   "cell_type": "code",
   "execution_count": 6,
   "metadata": {},
   "outputs": [
    {
     "data": {
      "application/vnd.jupyter.widget-view+json": {
       "model_id": "a30d9c9cbd3040ebb972f5132baf3e8f",
       "version_major": 2,
       "version_minor": 0
      },
      "text/plain": [
       "MitoWidget(analysis_data_json='{\"analysisName\": \"UUID-b77b599a-9e77-4c8e-a07b-52583443e202\", \"code\": {\"imports…"
      ]
     },
     "metadata": {},
     "output_type": "display_data"
    }
   ],
   "source": [
    "mitosheet.sheet(drug_df)"
   ]
  },
  {
   "cell_type": "code",
   "execution_count": null,
   "metadata": {},
   "outputs": [],
   "source": [
    "# 1a continued\n",
    "print('training set shape:',drug_df.shape,'\\n','columns and types:','\\n','\\t', drug_df.dtypes)"
   ]
  },
  {
   "cell_type": "code",
   "execution_count": null,
   "metadata": {},
   "outputs": [],
   "source": [
    "# 1a continued - looking at all of the different drugs and unique count of each column\n",
    "# after inspecting some of the \"condition\" values via excel, I noticed that there are similiar naming conventions with some specificity\n",
    "# hence, it would be ideal to group drugs based on condition, if it makes sense from a medical perspective \n",
    "\n",
    "columns = list(drug_df.columns)\n",
    "unique_counts = []\n",
    "for i in columns:\n",
    "    unique_counts.append(len(drug_df[i].unique()))\n",
    "unique_dict = pd.DataFrame({'column names': columns, 'unique counts': unique_counts})\n",
    "unique_dict"
   ]
  },
  {
   "cell_type": "code",
   "execution_count": null,
   "metadata": {
    "scrolled": false
   },
   "outputs": [],
   "source": [
    "# time to inspect the high-level distribution of ratings, \n",
    "\n",
    "r = sns.countplot(data = drug_df, x = 'rating')\n",
    "r.set(title = \"High-Level Count of Ratings\")\n",
    "plt.xlabel('Rating')\n",
    "plt.ylabel('Count of Ratings')\n",
    "plt.show()"
   ]
  },
  {
   "cell_type": "code",
   "execution_count": null,
   "metadata": {},
   "outputs": [],
   "source": [
    "# As you can see from above, there is a polarization amongst the dataset with a high concentration of reviewers\n",
    "# giving 1, 9 and 10 ratings\n",
    "# let's look at the top 20 drugs(by count of reviews)\n",
    "drug_rating_count = drug_df.groupby('drugName').count().sort_values('rating', ascending = False)\n",
    "drug_rating_count = drug_rating_count[0:21]\n",
    "drug_rating_count = pd.DataFrame(drug_rating_count.drop(['uniqueID', 'condition', 'review','date','usefulCount'], inplace = True, axis = 1)\n",
    "drug_rating_count.head(5)\n",
    "\n",
    "#sns.barplot(data = drug_rating_count, y = \"rating\", x = \"drugName\", ax=ax)\n",
    "#plt.xticks(rotation=90)"
   ]
  },
  {
   "cell_type": "code",
   "execution_count": null,
   "metadata": {},
   "outputs": [],
   "source": [
    "# grouping by like \"conditions\" and then inspecting a few to see the rating distributions based on type of drug  \n",
    "condition_gb = drug_df.groupby('condition')\n",
    "\n",
    "# printing the first entries for the different groups\n",
    "condition_gb.first()"
   ]
  },
  {
   "cell_type": "code",
   "execution_count": null,
   "metadata": {},
   "outputs": [],
   "source": [
    "# as you can see from above, there needs to be some data cleanup; there seems to be some erroneous conditions \n",
    "# and also, misspelled/cut-off naming conventions (e.g. zen Shoulde)\n",
    "# let's go ahead and get rid of some erroneous entries\n",
    "# for starters, when there are 1 or more numbers at the start of the condition column, I will get rid of that observation\n",
    "drug_df['digit_check'] = drug_df['condition'].str[0].str.isdigit()\n",
    "drug_df = drug_df[drug_df.digit_check == 0]\n",
    "drug_df.drop('digit_check', axis = 1, inplace = True)\n",
    "drug_df.shape\n",
    "# looks like that removed 1799 observations from the dataset or roughly 1.11% "
   ]
  },
  {
   "cell_type": "code",
   "execution_count": null,
   "metadata": {},
   "outputs": [],
   "source": [
    "# checking for null values and summation\n",
    "null_df = pd.DataFrame({'null values?':drug_df.isnull().any(), 'null summation':drug_df.isnull().sum()})\n",
    "null_df"
   ]
  },
  {
   "cell_type": "code",
   "execution_count": null,
   "metadata": {},
   "outputs": [],
   "source": [
    "# let's inspect \"birth control\" in detail \n",
    "birth_control = condition_gb.get_group('Birth Control')\n",
    "birth_control.head(10)"
   ]
  },
  {
   "cell_type": "code",
   "execution_count": null,
   "metadata": {},
   "outputs": [],
   "source": [
    "# so, there's an interesting distribution going on here.. some polarized views; I wonder if one drug or a few drugs is/are\n",
    "# skewing the distribution one way or the other; i'm going to inspect the averages for each drug\n",
    "bc1 = birth_control.groupby('drugName', as_index = False)['rating'].mean()\n",
    "bc2 = birth_control.groupby('drugName', as_index = False)['rating'].count()\n",
    "bcmerge = bc1.merge(bc2, how='inner', on='drugName').rename(columns={'rating_x':'average rating',\n",
    "                                                                     'rating_y': 'count of ratings'}).sort_values(by='average rating', ascending = False)\n",
    "print(bcmerge.shape)\n",
    "bcmerge.head(5)\n",
    "# there is some substantial variation in the average rating and the count of ratings"
   ]
  },
  {
   "cell_type": "code",
   "execution_count": null,
   "metadata": {},
   "outputs": [],
   "source": [
    "# importing libraries for creating an interactive plotting experience (visualizing the above graph based on condition)\n",
    "from ipywidgets import interact, interactive, fixed, interact_manual\n",
    "import ipywidgets as widgets\n",
    "from io import StringIO\n",
    "import plotly.express as px\n",
    "import mplcursors"
   ]
  },
  {
   "cell_type": "code",
   "execution_count": null,
   "metadata": {},
   "outputs": [],
   "source": [
    "# initializing the filters for the interactive plot\n",
    "# filter by condition\n",
    "# filter by drugName\n",
    "condition_options= list(drug_df['condition'].unique())\n",
    "drug_options= list(drug_df['drugName'].unique())\n",
    "\n",
    "condition_select = widgets.Dropdown(\n",
    "    options= condition_options,\n",
    "    #value='All',\n",
    "    description='Condition:',\n",
    ")\n",
    "\n",
    "drug_select = widgets.Dropdown(\n",
    "    options= drug_options,\n",
    "    #value='All',\n",
    "    description='Drug Name:',\n",
    ")"
   ]
  },
  {
   "cell_type": "code",
   "execution_count": null,
   "metadata": {},
   "outputs": [],
   "source": [
    "def plotit_condition(conditions_list):\n",
    "    \"\"\"\n",
    "    Function used to customize visualization/plot based on selection/drop-down menu; this is a good way to minimize \n",
    "    the landscape dedicated to plotting \n",
    "    - globally-defined dataframe is drug_df\n",
    "    - included, filter-able column: condition\n",
    "\n",
    "    Args:\n",
    "    -----\n",
    "        * condition (str): select one of the condition's you wish to visualize\n",
    "\n",
    "    Returns:\n",
    "    -------- \n",
    "        * aggregated distribution of ratings based on the condition being treated\n",
    "        \n",
    "\n",
    "    \"\"\"\n",
    "    df2 = drug_df.copy()\n",
    "    df2 = df2.groupby(['condition'])\n",
    "    df_condition = df2.get_group(conditions_list)\n",
    "    \n",
    "    # plots showing relationship between average rating and count of ratings for each drug that treats the same condition\n",
    "    # e.g. plot 2 cells above that shows the average rating (y axis) and count of ratings (x axis) for all \n",
    "    # birth control (condition) drugs (drugName)\n",
    "    # defining the plotting structure/conditions\n",
    "    if len(df_condition) > 0:\n",
    "        df_condition_mean = df_condition.groupby(['drugName'], as_index = False)['rating'].mean()\n",
    "        df_condition_count = df_condition.groupby(['drugName'], as_index = False)['rating'].count()\n",
    "        df_condition_merge = df_condition_mean.merge(df_condition_count, how = 'inner', on ='drugName').rename(columns={'rating_x':'average_rating',\n",
    "                                                                     'rating_y': 'count_of_ratings'}).sort_values(by='average_rating', ascending = False)\n",
    "        # creating the Condition scatterplot and setting parameters\n",
    "        fig, ax = plt.subplots(figsize=(7, 5))\n",
    "        sns.set_theme(style=\"darkgrid\")\n",
    "        plot = sns.scatterplot(x = \"count_of_ratings\", y = \"average_rating\", data = df_condition_merge, hue=\"drugName\", ax=ax)\n",
    "        plt.title('Drug Avg. Rating and Review Count')\n",
    "        \n",
    "        # creating the functions required to display annotations (via hovering)\n",
    "        drug_labels = list(df_condition_merge['drugName'].unique())\n",
    "        cursor = mplcursors.cursor(hover=True)\n",
    "        cursor.connect(\n",
    "            \"add\", lambda sel: sel.annotation.set_text(drug_labels[sel.target.index]))\n",
    "\n",
    "        # not showing the legend if > X drugs are displayed (need to refine)\n",
    "        if len(list(df_condition_count.drugName.unique())) > 1:\n",
    "            ax.legend().set_visible(False)\n",
    "        else: \n",
    "            pass\n",
    "        plt.show();\n",
    "    else:\n",
    "        print(\"No data to show for current selection\")"
   ]
  },
  {
   "cell_type": "code",
   "execution_count": null,
   "metadata": {},
   "outputs": [],
   "source": [
    "# calling the plotit function within the interactive library\n",
    "# use the square/rectangle icon to zoom into a sub-region within the graph\n",
    "# to reset the view back to the original, click the home icon\n",
    "interact(plotit_condition, conditions_list = condition_select)"
   ]
  },
  {
   "cell_type": "code",
   "execution_count": null,
   "metadata": {},
   "outputs": [],
   "source": []
  }
 ],
 "metadata": {
  "kernelspec": {
   "display_name": "Python 3",
   "language": "python",
   "name": "python3"
  },
  "language_info": {
   "codemirror_mode": {
    "name": "ipython",
    "version": 3
   },
   "file_extension": ".py",
   "mimetype": "text/x-python",
   "name": "python",
   "nbconvert_exporter": "python",
   "pygments_lexer": "ipython3",
   "version": "3.8.5"
  }
 },
 "nbformat": 4,
 "nbformat_minor": 4
}
