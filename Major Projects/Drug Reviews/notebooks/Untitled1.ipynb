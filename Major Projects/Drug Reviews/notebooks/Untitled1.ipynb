{
 "cells": [
  {
   "cell_type": "code",
   "execution_count": null,
   "metadata": {},
   "outputs": [],
   "source": [
    "# Problem 2 - Sports Team Optimization\n",
    "# You are in charge of assembling a sports team with a budget constraint. You wish to pick\n",
    "# the team that gives you the best chance of winning (by scoring the most points). Use the\n",
    "# provided data to create a team picking system that optimizes for expected points,\n",
    "# constrained by budget (B – nonnegative float), and number of players on a team (lower\n",
    "# bound M, upper bound N – nonnegative integers).\n",
    "# More formally:\n",
    "# Maximize:\n",
    "# - Expected points\n",
    "# Subject to:\n",
    "#  - Total cost (sum of salaries paid) <= B\n",
    "# Number of players chosen <= N\n",
    "# - Number of players chosen >= M\n",
    "# Output: Work in a Jupyter notebook, R markdown file, or script detailing your process"
   ]
  },
  {
   "cell_type": "code",
   "execution_count": 37,
   "metadata": {},
   "outputs": [],
   "source": [
    "# importing the initial libraries/packages required for reading in the data and performing based transformations\n",
    "\n",
    "%matplotlib notebook\n",
    "import numpy as np # linear algebra\n",
    "import pandas as pd # data processing, CSV file I/O (e.g. pd.read_csv)\n",
    "import matplotlib.pyplot as plt\n",
    "import seaborn as sns # rich visualizations\n",
    "\n",
    "# showing the folder structure/path to raw data\n",
    "# import os\n",
    "# for dirname, _, filenames in os.walk('/Users/alexanderblaies/Desktop'):\n",
    "    # for filename in filenames:\n",
    "       # print(os.path.join(dirname, filename))"
   ]
  },
  {
   "cell_type": "code",
   "execution_count": 38,
   "metadata": {},
   "outputs": [
    {
     "data": {
      "text/html": [
       "<div>\n",
       "<style scoped>\n",
       "    .dataframe tbody tr th:only-of-type {\n",
       "        vertical-align: middle;\n",
       "    }\n",
       "\n",
       "    .dataframe tbody tr th {\n",
       "        vertical-align: top;\n",
       "    }\n",
       "\n",
       "    .dataframe thead th {\n",
       "        text-align: right;\n",
       "    }\n",
       "</style>\n",
       "<table border=\"1\" class=\"dataframe\">\n",
       "  <thead>\n",
       "    <tr style=\"text-align: right;\">\n",
       "      <th></th>\n",
       "      <th>Unnamed: 0</th>\n",
       "      <th>player_id</th>\n",
       "      <th>position</th>\n",
       "      <th>salary</th>\n",
       "      <th>expected_points</th>\n",
       "    </tr>\n",
       "  </thead>\n",
       "  <tbody>\n",
       "    <tr>\n",
       "      <th>0</th>\n",
       "      <td>0</td>\n",
       "      <td>412</td>\n",
       "      <td>A</td>\n",
       "      <td>11900</td>\n",
       "      <td>41.5</td>\n",
       "    </tr>\n",
       "    <tr>\n",
       "      <th>1</th>\n",
       "      <td>1</td>\n",
       "      <td>239</td>\n",
       "      <td>B</td>\n",
       "      <td>11700</td>\n",
       "      <td>78.6</td>\n",
       "    </tr>\n",
       "    <tr>\n",
       "      <th>2</th>\n",
       "      <td>2</td>\n",
       "      <td>2</td>\n",
       "      <td>B</td>\n",
       "      <td>11500</td>\n",
       "      <td>51.4</td>\n",
       "    </tr>\n",
       "    <tr>\n",
       "      <th>3</th>\n",
       "      <td>3</td>\n",
       "      <td>240</td>\n",
       "      <td>C</td>\n",
       "      <td>10400</td>\n",
       "      <td>68.8</td>\n",
       "    </tr>\n",
       "    <tr>\n",
       "      <th>4</th>\n",
       "      <td>4</td>\n",
       "      <td>241</td>\n",
       "      <td>A</td>\n",
       "      <td>10000</td>\n",
       "      <td>46.1</td>\n",
       "    </tr>\n",
       "    <tr>\n",
       "      <th>5</th>\n",
       "      <td>5</td>\n",
       "      <td>3</td>\n",
       "      <td>B</td>\n",
       "      <td>9900</td>\n",
       "      <td>53.1</td>\n",
       "    </tr>\n",
       "    <tr>\n",
       "      <th>6</th>\n",
       "      <td>6</td>\n",
       "      <td>413</td>\n",
       "      <td>B</td>\n",
       "      <td>9400</td>\n",
       "      <td>53.0</td>\n",
       "    </tr>\n",
       "    <tr>\n",
       "      <th>7</th>\n",
       "      <td>7</td>\n",
       "      <td>414</td>\n",
       "      <td>A</td>\n",
       "      <td>9400</td>\n",
       "      <td>20.4</td>\n",
       "    </tr>\n",
       "    <tr>\n",
       "      <th>8</th>\n",
       "      <td>8</td>\n",
       "      <td>5</td>\n",
       "      <td>A</td>\n",
       "      <td>9300</td>\n",
       "      <td>61.3</td>\n",
       "    </tr>\n",
       "    <tr>\n",
       "      <th>9</th>\n",
       "      <td>9</td>\n",
       "      <td>11</td>\n",
       "      <td>C</td>\n",
       "      <td>9200</td>\n",
       "      <td>33.1</td>\n",
       "    </tr>\n",
       "  </tbody>\n",
       "</table>\n",
       "</div>"
      ],
      "text/plain": [
       "   Unnamed: 0  player_id position  salary  expected_points\n",
       "0           0        412        A   11900             41.5\n",
       "1           1        239        B   11700             78.6\n",
       "2           2          2        B   11500             51.4\n",
       "3           3        240        C   10400             68.8\n",
       "4           4        241        A   10000             46.1\n",
       "5           5          3        B    9900             53.1\n",
       "6           6        413        B    9400             53.0\n",
       "7           7        414        A    9400             20.4\n",
       "8           8          5        A    9300             61.3\n",
       "9           9         11        C    9200             33.1"
      ]
     },
     "execution_count": 38,
     "metadata": {},
     "output_type": "execute_result"
    }
   ],
   "source": [
    "# initial inspection\n",
    "sports_df = pd.read_csv('/Users/alexanderblaies/Desktop/sports_data.csv')\n",
    "sports_df.head(10)"
   ]
  },
  {
   "cell_type": "code",
   "execution_count": 39,
   "metadata": {},
   "outputs": [
    {
     "data": {
      "text/html": [
       "<div>\n",
       "<style scoped>\n",
       "    .dataframe tbody tr th:only-of-type {\n",
       "        vertical-align: middle;\n",
       "    }\n",
       "\n",
       "    .dataframe tbody tr th {\n",
       "        vertical-align: top;\n",
       "    }\n",
       "\n",
       "    .dataframe thead th {\n",
       "        text-align: right;\n",
       "    }\n",
       "</style>\n",
       "<table border=\"1\" class=\"dataframe\">\n",
       "  <thead>\n",
       "    <tr style=\"text-align: right;\">\n",
       "      <th></th>\n",
       "      <th>player_id</th>\n",
       "      <th>position</th>\n",
       "      <th>salary</th>\n",
       "      <th>expected_points</th>\n",
       "    </tr>\n",
       "  </thead>\n",
       "  <tbody>\n",
       "    <tr>\n",
       "      <th>0</th>\n",
       "      <td>412</td>\n",
       "      <td>A</td>\n",
       "      <td>11900</td>\n",
       "      <td>41.5</td>\n",
       "    </tr>\n",
       "    <tr>\n",
       "      <th>1</th>\n",
       "      <td>239</td>\n",
       "      <td>B</td>\n",
       "      <td>11700</td>\n",
       "      <td>78.6</td>\n",
       "    </tr>\n",
       "    <tr>\n",
       "      <th>2</th>\n",
       "      <td>2</td>\n",
       "      <td>B</td>\n",
       "      <td>11500</td>\n",
       "      <td>51.4</td>\n",
       "    </tr>\n",
       "    <tr>\n",
       "      <th>3</th>\n",
       "      <td>240</td>\n",
       "      <td>C</td>\n",
       "      <td>10400</td>\n",
       "      <td>68.8</td>\n",
       "    </tr>\n",
       "    <tr>\n",
       "      <th>4</th>\n",
       "      <td>241</td>\n",
       "      <td>A</td>\n",
       "      <td>10000</td>\n",
       "      <td>46.1</td>\n",
       "    </tr>\n",
       "  </tbody>\n",
       "</table>\n",
       "</div>"
      ],
      "text/plain": [
       "   player_id position  salary  expected_points\n",
       "0        412        A   11900             41.5\n",
       "1        239        B   11700             78.6\n",
       "2          2        B   11500             51.4\n",
       "3        240        C   10400             68.8\n",
       "4        241        A   10000             46.1"
      ]
     },
     "execution_count": 39,
     "metadata": {},
     "output_type": "execute_result"
    }
   ],
   "source": [
    "# dropping the \"Unnamed: 0\" column; looks good\n",
    "sports_df.drop('Unnamed: 0', axis = 1, inplace = True)\n",
    "sports_df.head(5)"
   ]
  },
  {
   "cell_type": "code",
   "execution_count": 40,
   "metadata": {},
   "outputs": [
    {
     "data": {
      "text/plain": [
       "player_id            int64\n",
       "position            object\n",
       "salary               int64\n",
       "expected_points    float64\n",
       "dtype: object"
      ]
     },
     "execution_count": 40,
     "metadata": {},
     "output_type": "execute_result"
    }
   ],
   "source": [
    "# checking the data types to ensure compatibility\n",
    "sports_df.dtypes"
   ]
  },
  {
   "cell_type": "code",
   "execution_count": 41,
   "metadata": {},
   "outputs": [
    {
     "data": {
      "text/html": [
       "<div>\n",
       "<style scoped>\n",
       "    .dataframe tbody tr th:only-of-type {\n",
       "        vertical-align: middle;\n",
       "    }\n",
       "\n",
       "    .dataframe tbody tr th {\n",
       "        vertical-align: top;\n",
       "    }\n",
       "\n",
       "    .dataframe thead th {\n",
       "        text-align: right;\n",
       "    }\n",
       "</style>\n",
       "<table border=\"1\" class=\"dataframe\">\n",
       "  <thead>\n",
       "    <tr style=\"text-align: right;\">\n",
       "      <th></th>\n",
       "      <th>player_id</th>\n",
       "      <th>salary</th>\n",
       "      <th>expected_points</th>\n",
       "    </tr>\n",
       "  </thead>\n",
       "  <tbody>\n",
       "    <tr>\n",
       "      <th>count</th>\n",
       "      <td>219.000000</td>\n",
       "      <td>219.000000</td>\n",
       "      <td>219.000000</td>\n",
       "    </tr>\n",
       "    <tr>\n",
       "      <th>mean</th>\n",
       "      <td>226.936073</td>\n",
       "      <td>5205.022831</td>\n",
       "      <td>21.464384</td>\n",
       "    </tr>\n",
       "    <tr>\n",
       "      <th>std</th>\n",
       "      <td>157.768253</td>\n",
       "      <td>1873.235530</td>\n",
       "      <td>14.123291</td>\n",
       "    </tr>\n",
       "    <tr>\n",
       "      <th>min</th>\n",
       "      <td>2.000000</td>\n",
       "      <td>3500.000000</td>\n",
       "      <td>0.000000</td>\n",
       "    </tr>\n",
       "    <tr>\n",
       "      <th>25%</th>\n",
       "      <td>79.500000</td>\n",
       "      <td>3700.000000</td>\n",
       "      <td>11.750000</td>\n",
       "    </tr>\n",
       "    <tr>\n",
       "      <th>50%</th>\n",
       "      <td>228.000000</td>\n",
       "      <td>4500.000000</td>\n",
       "      <td>19.700000</td>\n",
       "    </tr>\n",
       "    <tr>\n",
       "      <th>75%</th>\n",
       "      <td>368.500000</td>\n",
       "      <td>6400.000000</td>\n",
       "      <td>28.900000</td>\n",
       "    </tr>\n",
       "    <tr>\n",
       "      <th>max</th>\n",
       "      <td>511.000000</td>\n",
       "      <td>11900.000000</td>\n",
       "      <td>78.600000</td>\n",
       "    </tr>\n",
       "  </tbody>\n",
       "</table>\n",
       "</div>"
      ],
      "text/plain": [
       "        player_id        salary  expected_points\n",
       "count  219.000000    219.000000       219.000000\n",
       "mean   226.936073   5205.022831        21.464384\n",
       "std    157.768253   1873.235530        14.123291\n",
       "min      2.000000   3500.000000         0.000000\n",
       "25%     79.500000   3700.000000        11.750000\n",
       "50%    228.000000   4500.000000        19.700000\n",
       "75%    368.500000   6400.000000        28.900000\n",
       "max    511.000000  11900.000000        78.600000"
      ]
     },
     "execution_count": 41,
     "metadata": {},
     "output_type": "execute_result"
    }
   ],
   "source": [
    "# checking the summary statistics\n",
    "sports_df.describe()"
   ]
  },
  {
   "cell_type": "code",
   "execution_count": 42,
   "metadata": {},
   "outputs": [
    {
     "data": {
      "text/plain": [
       "player_id          False\n",
       "position           False\n",
       "salary             False\n",
       "expected_points    False\n",
       "dtype: bool"
      ]
     },
     "execution_count": 42,
     "metadata": {},
     "output_type": "execute_result"
    }
   ],
   "source": [
    "# just double checking to ensure there are no null values\n",
    "sports_df.isnull().any()"
   ]
  },
  {
   "cell_type": "code",
   "execution_count": 43,
   "metadata": {},
   "outputs": [
    {
     "name": "stdout",
     "output_type": "stream",
     "text": [
      "Enter your value for total budget available: 23234545\n",
      "Enter your value for the lower bound of players available: 4\n",
      "Enter your value for the upper bound of players available: 6\n"
     ]
    }
   ],
   "source": [
    "# let's go ahead and build the optimization model using the following variables; EDA would be somewhat valuable here, but\n",
    "# it is not required to build the model \n",
    "# maximize P (points)\n",
    "# constraints: B (budget - summation of salaries), M (lower bound of players available), N (upper bound of players available)\n",
    "B_val = float(input(\"Enter your value for total budget available: \"))\n",
    "M_val = int(input(\"Enter your value for the lower bound of players available: \"))\n",
    "N_val = int(input(\"Enter your value for the upper bound of players available: \"))\n"
   ]
  },
  {
   "cell_type": "code",
   "execution_count": 46,
   "metadata": {},
   "outputs": [
    {
     "data": {
      "text/plain": [
       "1"
      ]
     },
     "execution_count": 46,
     "metadata": {},
     "output_type": "execute_result"
    }
   ],
   "source": [
    "# now, I could be a complex algo from scratch, but for the sake of time, I'll use libraries that are available\n",
    "# that's where the \"pulp\" library comes into play\n",
    "# importing the solver/optimizer\n",
    "import pulp\n",
    "from pulp import *\n",
    "\n",
    "# initializing an instance of the solver:\n",
    "model = LpProblem('Maximize Points', sense= LpMaximize)\n",
    "\n",
    "# defining the input array/decision variables\n",
    "players = list(sports_df.index)\n",
    "sports_vars = LpVariable.dicts(\"Sprts\", players, 0)\n",
    "T = LpVariable('T', lowBound=M_val, upBound=N_val, cat='Integer')\n",
    "\n",
    "# objective function: maximize P given a number of players available between M and N that sums to <= B\n",
    "model += (lpSum([sports_df.expected_points[i] for i in players]),\"Total Points Expected\",)\n",
    "\n",
    "# creating the constraints\n",
    "model += ((lpSum([sports_df.salary[i] for i in players]) * T) <= B_val, \"Budget Requirement\")\n",
    "\n",
    "# solving the model \n",
    "model.solve()\n",
    "# model =+ players_available >= M_val\n",
    "# model =+ players_available <= N_val"
   ]
  },
  {
   "cell_type": "code",
   "execution_count": null,
   "metadata": {},
   "outputs": [],
   "source": []
  },
  {
   "cell_type": "code",
   "execution_count": null,
   "metadata": {},
   "outputs": [],
   "source": []
  }
 ],
 "metadata": {
  "kernelspec": {
   "display_name": "Python 3",
   "language": "python",
   "name": "python3"
  },
  "language_info": {
   "codemirror_mode": {
    "name": "ipython",
    "version": 3
   },
   "file_extension": ".py",
   "mimetype": "text/x-python",
   "name": "python",
   "nbconvert_exporter": "python",
   "pygments_lexer": "ipython3",
   "version": "3.8.5"
  }
 },
 "nbformat": 4,
 "nbformat_minor": 4
}
