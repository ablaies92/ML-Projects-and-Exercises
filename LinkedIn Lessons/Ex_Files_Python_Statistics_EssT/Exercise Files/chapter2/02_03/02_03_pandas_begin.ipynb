{
 "cells": [
  {
   "cell_type": "markdown",
   "metadata": {},
   "source": [
    "## Python statistics essential training - 02_03_pandas"
   ]
  },
  {
   "cell_type": "markdown",
   "metadata": {},
   "source": [
    "Standard imports"
   ]
  },
  {
   "cell_type": "code",
   "execution_count": 12,
   "metadata": {},
   "outputs": [],
   "source": [
    "import numpy as np\n",
    "import pandas as pd\n",
    "\n",
    "import matplotlib\n",
    "import matplotlib.pyplot as pp\n",
    "\n",
    "%matplotlib inline"
   ]
  },
  {
   "cell_type": "code",
   "execution_count": 15,
   "metadata": {},
   "outputs": [
    {
     "data": {
      "text/html": [
       "<div>\n",
       "<style scoped>\n",
       "    .dataframe tbody tr th:only-of-type {\n",
       "        vertical-align: middle;\n",
       "    }\n",
       "\n",
       "    .dataframe tbody tr th {\n",
       "        vertical-align: top;\n",
       "    }\n",
       "\n",
       "    .dataframe thead th {\n",
       "        text-align: right;\n",
       "    }\n",
       "</style>\n",
       "<table border=\"1\" class=\"dataframe\">\n",
       "  <thead>\n",
       "    <tr style=\"text-align: right;\">\n",
       "      <th></th>\n",
       "      <th>Planet</th>\n",
       "      <th>Mass</th>\n",
       "      <th>Diameter</th>\n",
       "      <th>DayLength</th>\n",
       "    </tr>\n",
       "  </thead>\n",
       "  <tbody>\n",
       "    <tr>\n",
       "      <th>0</th>\n",
       "      <td>MERCURY</td>\n",
       "      <td>0.3300</td>\n",
       "      <td>4879</td>\n",
       "      <td>4222.6</td>\n",
       "    </tr>\n",
       "    <tr>\n",
       "      <th>1</th>\n",
       "      <td>VENUS</td>\n",
       "      <td>4.8700</td>\n",
       "      <td>12,104</td>\n",
       "      <td>2802.0</td>\n",
       "    </tr>\n",
       "    <tr>\n",
       "      <th>2</th>\n",
       "      <td>EARTH</td>\n",
       "      <td>5.9700</td>\n",
       "      <td>12,756</td>\n",
       "      <td>24.0</td>\n",
       "    </tr>\n",
       "    <tr>\n",
       "      <th>3</th>\n",
       "      <td>MOON</td>\n",
       "      <td>0.0730</td>\n",
       "      <td>3475</td>\n",
       "      <td>708.7</td>\n",
       "    </tr>\n",
       "    <tr>\n",
       "      <th>4</th>\n",
       "      <td>MARS</td>\n",
       "      <td>0.6420</td>\n",
       "      <td>6792</td>\n",
       "      <td>24.7</td>\n",
       "    </tr>\n",
       "    <tr>\n",
       "      <th>5</th>\n",
       "      <td>JUPITER</td>\n",
       "      <td>1898.0000</td>\n",
       "      <td>142,984</td>\n",
       "      <td>9.9</td>\n",
       "    </tr>\n",
       "    <tr>\n",
       "      <th>6</th>\n",
       "      <td>SATURN</td>\n",
       "      <td>568.0000</td>\n",
       "      <td>120,536</td>\n",
       "      <td>10.7</td>\n",
       "    </tr>\n",
       "    <tr>\n",
       "      <th>7</th>\n",
       "      <td>URANUS</td>\n",
       "      <td>86.8000</td>\n",
       "      <td>51,118</td>\n",
       "      <td>17.2</td>\n",
       "    </tr>\n",
       "    <tr>\n",
       "      <th>8</th>\n",
       "      <td>NEPTUNE</td>\n",
       "      <td>102.0000</td>\n",
       "      <td>49,528</td>\n",
       "      <td>16.1</td>\n",
       "    </tr>\n",
       "    <tr>\n",
       "      <th>9</th>\n",
       "      <td>PLUTO</td>\n",
       "      <td>0.0146</td>\n",
       "      <td>2370</td>\n",
       "      <td>153.3</td>\n",
       "    </tr>\n",
       "  </tbody>\n",
       "</table>\n",
       "</div>"
      ],
      "text/plain": [
       "    Planet       Mass Diameter  DayLength\n",
       "0  MERCURY     0.3300     4879     4222.6\n",
       "1    VENUS     4.8700   12,104     2802.0\n",
       "2    EARTH     5.9700   12,756       24.0\n",
       "3     MOON     0.0730     3475      708.7\n",
       "4     MARS     0.6420     6792       24.7\n",
       "5  JUPITER  1898.0000  142,984        9.9\n",
       "6   SATURN   568.0000  120,536       10.7\n",
       "7   URANUS    86.8000   51,118       17.2\n",
       "8  NEPTUNE   102.0000   49,528       16.1\n",
       "9    PLUTO     0.0146     2370      153.3"
      ]
     },
     "execution_count": 15,
     "metadata": {},
     "output_type": "execute_result"
    }
   ],
   "source": [
    "planets = pd.read_csv('Planets.csv', usecols=[0,1,2,3])\n",
    "planets"
   ]
  },
  {
   "cell_type": "code",
   "execution_count": 16,
   "metadata": {},
   "outputs": [
    {
     "data": {
      "text/plain": [
       "0       0.3300\n",
       "1       4.8700\n",
       "2       5.9700\n",
       "3       0.0730\n",
       "4       0.6420\n",
       "5    1898.0000\n",
       "6     568.0000\n",
       "7      86.8000\n",
       "8     102.0000\n",
       "9       0.0146\n",
       "Name: Mass, dtype: float64"
      ]
     },
     "execution_count": 16,
     "metadata": {},
     "output_type": "execute_result"
    }
   ],
   "source": [
    "planets['Mass']"
   ]
  },
  {
   "cell_type": "code",
   "execution_count": 17,
   "metadata": {},
   "outputs": [
    {
     "data": {
      "text/plain": [
       "0       0.3300\n",
       "1       4.8700\n",
       "2       5.9700\n",
       "3       0.0730\n",
       "4       0.6420\n",
       "5    1898.0000\n",
       "6     568.0000\n",
       "7      86.8000\n",
       "8     102.0000\n",
       "9       0.0146\n",
       "Name: Mass, dtype: float64"
      ]
     },
     "execution_count": 17,
     "metadata": {},
     "output_type": "execute_result"
    }
   ],
   "source": [
    "planets.Mass"
   ]
  },
  {
   "cell_type": "code",
   "execution_count": 18,
   "metadata": {},
   "outputs": [
    {
     "data": {
      "text/plain": [
       "RangeIndex(start=0, stop=10, step=1)"
      ]
     },
     "execution_count": 18,
     "metadata": {},
     "output_type": "execute_result"
    }
   ],
   "source": [
    "planets.index"
   ]
  },
  {
   "cell_type": "code",
   "execution_count": 20,
   "metadata": {},
   "outputs": [
    {
     "data": {
      "text/plain": [
       "Planet       MERCURY\n",
       "Mass            0.33\n",
       "Diameter        4879\n",
       "DayLength     4222.6\n",
       "Name: 0, dtype: object"
      ]
     },
     "execution_count": 20,
     "metadata": {},
     "output_type": "execute_result"
    }
   ],
   "source": [
    "planets.loc[0]"
   ]
  },
  {
   "cell_type": "code",
   "execution_count": 22,
   "metadata": {},
   "outputs": [
    {
     "data": {
      "text/html": [
       "<div>\n",
       "<style scoped>\n",
       "    .dataframe tbody tr th:only-of-type {\n",
       "        vertical-align: middle;\n",
       "    }\n",
       "\n",
       "    .dataframe tbody tr th {\n",
       "        vertical-align: top;\n",
       "    }\n",
       "\n",
       "    .dataframe thead th {\n",
       "        text-align: right;\n",
       "    }\n",
       "</style>\n",
       "<table border=\"1\" class=\"dataframe\">\n",
       "  <thead>\n",
       "    <tr style=\"text-align: right;\">\n",
       "      <th></th>\n",
       "      <th>Mass</th>\n",
       "      <th>Diameter</th>\n",
       "      <th>DayLength</th>\n",
       "    </tr>\n",
       "    <tr>\n",
       "      <th>Planet</th>\n",
       "      <th></th>\n",
       "      <th></th>\n",
       "      <th></th>\n",
       "    </tr>\n",
       "  </thead>\n",
       "  <tbody>\n",
       "    <tr>\n",
       "      <th>MERCURY</th>\n",
       "      <td>0.3300</td>\n",
       "      <td>4879</td>\n",
       "      <td>4222.6</td>\n",
       "    </tr>\n",
       "    <tr>\n",
       "      <th>VENUS</th>\n",
       "      <td>4.8700</td>\n",
       "      <td>12,104</td>\n",
       "      <td>2802.0</td>\n",
       "    </tr>\n",
       "    <tr>\n",
       "      <th>EARTH</th>\n",
       "      <td>5.9700</td>\n",
       "      <td>12,756</td>\n",
       "      <td>24.0</td>\n",
       "    </tr>\n",
       "    <tr>\n",
       "      <th>MOON</th>\n",
       "      <td>0.0730</td>\n",
       "      <td>3475</td>\n",
       "      <td>708.7</td>\n",
       "    </tr>\n",
       "    <tr>\n",
       "      <th>MARS</th>\n",
       "      <td>0.6420</td>\n",
       "      <td>6792</td>\n",
       "      <td>24.7</td>\n",
       "    </tr>\n",
       "    <tr>\n",
       "      <th>JUPITER</th>\n",
       "      <td>1898.0000</td>\n",
       "      <td>142,984</td>\n",
       "      <td>9.9</td>\n",
       "    </tr>\n",
       "    <tr>\n",
       "      <th>SATURN</th>\n",
       "      <td>568.0000</td>\n",
       "      <td>120,536</td>\n",
       "      <td>10.7</td>\n",
       "    </tr>\n",
       "    <tr>\n",
       "      <th>URANUS</th>\n",
       "      <td>86.8000</td>\n",
       "      <td>51,118</td>\n",
       "      <td>17.2</td>\n",
       "    </tr>\n",
       "    <tr>\n",
       "      <th>NEPTUNE</th>\n",
       "      <td>102.0000</td>\n",
       "      <td>49,528</td>\n",
       "      <td>16.1</td>\n",
       "    </tr>\n",
       "    <tr>\n",
       "      <th>PLUTO</th>\n",
       "      <td>0.0146</td>\n",
       "      <td>2370</td>\n",
       "      <td>153.3</td>\n",
       "    </tr>\n",
       "  </tbody>\n",
       "</table>\n",
       "</div>"
      ],
      "text/plain": [
       "              Mass Diameter  DayLength\n",
       "Planet                                \n",
       "MERCURY     0.3300     4879     4222.6\n",
       "VENUS       4.8700   12,104     2802.0\n",
       "EARTH       5.9700   12,756       24.0\n",
       "MOON        0.0730     3475      708.7\n",
       "MARS        0.6420     6792       24.7\n",
       "JUPITER  1898.0000  142,984        9.9\n",
       "SATURN    568.0000  120,536       10.7\n",
       "URANUS     86.8000   51,118       17.2\n",
       "NEPTUNE   102.0000   49,528       16.1\n",
       "PLUTO       0.0146     2370      153.3"
      ]
     },
     "execution_count": 22,
     "metadata": {},
     "output_type": "execute_result"
    }
   ],
   "source": [
    "planets.set_index('Planet')\n",
    "#this results in a copy of the original dataframe, in order to permenantly change the\n",
    "#index, one needs to call on inplace = True"
   ]
  },
  {
   "cell_type": "code",
   "execution_count": 24,
   "metadata": {},
   "outputs": [
    {
     "ename": "KeyError",
     "evalue": "\"None of ['Planet'] are in the columns\"",
     "output_type": "error",
     "traceback": [
      "\u001b[0;31m---------------------------------------------------------------------------\u001b[0m",
      "\u001b[0;31mKeyError\u001b[0m                                  Traceback (most recent call last)",
      "\u001b[0;32m<ipython-input-24-5442ad7c5c6b>\u001b[0m in \u001b[0;36m<module>\u001b[0;34m\u001b[0m\n\u001b[0;32m----> 1\u001b[0;31m \u001b[0mplanets\u001b[0m\u001b[0;34m.\u001b[0m\u001b[0mset_index\u001b[0m\u001b[0;34m(\u001b[0m\u001b[0;34m'Planet'\u001b[0m\u001b[0;34m,\u001b[0m\u001b[0minplace\u001b[0m \u001b[0;34m=\u001b[0m \u001b[0;32mTrue\u001b[0m\u001b[0;34m)\u001b[0m\u001b[0;34m\u001b[0m\u001b[0;34m\u001b[0m\u001b[0m\n\u001b[0m",
      "\u001b[0;32m~/opt/anaconda3/lib/python3.8/site-packages/pandas/core/frame.py\u001b[0m in \u001b[0;36mset_index\u001b[0;34m(self, keys, drop, append, inplace, verify_integrity)\u001b[0m\n\u001b[1;32m   4549\u001b[0m \u001b[0;34m\u001b[0m\u001b[0m\n\u001b[1;32m   4550\u001b[0m         \u001b[0;32mif\u001b[0m \u001b[0mmissing\u001b[0m\u001b[0;34m:\u001b[0m\u001b[0;34m\u001b[0m\u001b[0;34m\u001b[0m\u001b[0m\n\u001b[0;32m-> 4551\u001b[0;31m             \u001b[0;32mraise\u001b[0m \u001b[0mKeyError\u001b[0m\u001b[0;34m(\u001b[0m\u001b[0;34mf\"None of {missing} are in the columns\"\u001b[0m\u001b[0;34m)\u001b[0m\u001b[0;34m\u001b[0m\u001b[0;34m\u001b[0m\u001b[0m\n\u001b[0m\u001b[1;32m   4552\u001b[0m \u001b[0;34m\u001b[0m\u001b[0m\n\u001b[1;32m   4553\u001b[0m         \u001b[0;32mif\u001b[0m \u001b[0minplace\u001b[0m\u001b[0;34m:\u001b[0m\u001b[0;34m\u001b[0m\u001b[0;34m\u001b[0m\u001b[0m\n",
      "\u001b[0;31mKeyError\u001b[0m: \"None of ['Planet'] are in the columns\""
     ]
    }
   ],
   "source": [
    "planets.set_index('Planet',inplace = True)"
   ]
  },
  {
   "cell_type": "code",
   "execution_count": 25,
   "metadata": {},
   "outputs": [
    {
     "data": {
      "text/html": [
       "<div>\n",
       "<style scoped>\n",
       "    .dataframe tbody tr th:only-of-type {\n",
       "        vertical-align: middle;\n",
       "    }\n",
       "\n",
       "    .dataframe tbody tr th {\n",
       "        vertical-align: top;\n",
       "    }\n",
       "\n",
       "    .dataframe thead th {\n",
       "        text-align: right;\n",
       "    }\n",
       "</style>\n",
       "<table border=\"1\" class=\"dataframe\">\n",
       "  <thead>\n",
       "    <tr style=\"text-align: right;\">\n",
       "      <th></th>\n",
       "      <th>Mass</th>\n",
       "      <th>Diameter</th>\n",
       "      <th>DayLength</th>\n",
       "    </tr>\n",
       "    <tr>\n",
       "      <th>Planet</th>\n",
       "      <th></th>\n",
       "      <th></th>\n",
       "      <th></th>\n",
       "    </tr>\n",
       "  </thead>\n",
       "  <tbody>\n",
       "    <tr>\n",
       "      <th>MERCURY</th>\n",
       "      <td>0.3300</td>\n",
       "      <td>4879</td>\n",
       "      <td>4222.6</td>\n",
       "    </tr>\n",
       "    <tr>\n",
       "      <th>VENUS</th>\n",
       "      <td>4.8700</td>\n",
       "      <td>12,104</td>\n",
       "      <td>2802.0</td>\n",
       "    </tr>\n",
       "    <tr>\n",
       "      <th>EARTH</th>\n",
       "      <td>5.9700</td>\n",
       "      <td>12,756</td>\n",
       "      <td>24.0</td>\n",
       "    </tr>\n",
       "    <tr>\n",
       "      <th>MOON</th>\n",
       "      <td>0.0730</td>\n",
       "      <td>3475</td>\n",
       "      <td>708.7</td>\n",
       "    </tr>\n",
       "    <tr>\n",
       "      <th>MARS</th>\n",
       "      <td>0.6420</td>\n",
       "      <td>6792</td>\n",
       "      <td>24.7</td>\n",
       "    </tr>\n",
       "    <tr>\n",
       "      <th>JUPITER</th>\n",
       "      <td>1898.0000</td>\n",
       "      <td>142,984</td>\n",
       "      <td>9.9</td>\n",
       "    </tr>\n",
       "    <tr>\n",
       "      <th>SATURN</th>\n",
       "      <td>568.0000</td>\n",
       "      <td>120,536</td>\n",
       "      <td>10.7</td>\n",
       "    </tr>\n",
       "    <tr>\n",
       "      <th>URANUS</th>\n",
       "      <td>86.8000</td>\n",
       "      <td>51,118</td>\n",
       "      <td>17.2</td>\n",
       "    </tr>\n",
       "    <tr>\n",
       "      <th>NEPTUNE</th>\n",
       "      <td>102.0000</td>\n",
       "      <td>49,528</td>\n",
       "      <td>16.1</td>\n",
       "    </tr>\n",
       "    <tr>\n",
       "      <th>PLUTO</th>\n",
       "      <td>0.0146</td>\n",
       "      <td>2370</td>\n",
       "      <td>153.3</td>\n",
       "    </tr>\n",
       "  </tbody>\n",
       "</table>\n",
       "</div>"
      ],
      "text/plain": [
       "              Mass Diameter  DayLength\n",
       "Planet                                \n",
       "MERCURY     0.3300     4879     4222.6\n",
       "VENUS       4.8700   12,104     2802.0\n",
       "EARTH       5.9700   12,756       24.0\n",
       "MOON        0.0730     3475      708.7\n",
       "MARS        0.6420     6792       24.7\n",
       "JUPITER  1898.0000  142,984        9.9\n",
       "SATURN    568.0000  120,536       10.7\n",
       "URANUS     86.8000   51,118       17.2\n",
       "NEPTUNE   102.0000   49,528       16.1\n",
       "PLUTO       0.0146     2370      153.3"
      ]
     },
     "execution_count": 25,
     "metadata": {},
     "output_type": "execute_result"
    }
   ],
   "source": [
    "planets"
   ]
  },
  {
   "cell_type": "code",
   "execution_count": 26,
   "metadata": {},
   "outputs": [
    {
     "data": {
      "text/plain": [
       "<bound method DataFrame.info of               Mass Diameter  DayLength\n",
       "Planet                                \n",
       "MERCURY     0.3300     4879     4222.6\n",
       "VENUS       4.8700   12,104     2802.0\n",
       "EARTH       5.9700   12,756       24.0\n",
       "MOON        0.0730     3475      708.7\n",
       "MARS        0.6420     6792       24.7\n",
       "JUPITER  1898.0000  142,984        9.9\n",
       "SATURN    568.0000  120,536       10.7\n",
       "URANUS     86.8000   51,118       17.2\n",
       "NEPTUNE   102.0000   49,528       16.1\n",
       "PLUTO       0.0146     2370      153.3>"
      ]
     },
     "execution_count": 26,
     "metadata": {},
     "output_type": "execute_result"
    }
   ],
   "source": [
    "planets.info"
   ]
  },
  {
   "cell_type": "code",
   "execution_count": 27,
   "metadata": {},
   "outputs": [
    {
     "data": {
      "text/plain": [
       "10"
      ]
     },
     "execution_count": 27,
     "metadata": {},
     "output_type": "execute_result"
    }
   ],
   "source": [
    "len(planets)"
   ]
  },
  {
   "cell_type": "code",
   "execution_count": 28,
   "metadata": {},
   "outputs": [
    {
     "data": {
      "text/plain": [
       "Mass           0.33\n",
       "Diameter       4879\n",
       "DayLength    4222.6\n",
       "Name: MERCURY, dtype: object"
      ]
     },
     "execution_count": 28,
     "metadata": {},
     "output_type": "execute_result"
    }
   ],
   "source": [
    "planets.loc['MERCURY']"
   ]
  },
  {
   "cell_type": "code",
   "execution_count": 29,
   "metadata": {},
   "outputs": [
    {
     "data": {
      "text/html": [
       "<div>\n",
       "<style scoped>\n",
       "    .dataframe tbody tr th:only-of-type {\n",
       "        vertical-align: middle;\n",
       "    }\n",
       "\n",
       "    .dataframe tbody tr th {\n",
       "        vertical-align: top;\n",
       "    }\n",
       "\n",
       "    .dataframe thead th {\n",
       "        text-align: right;\n",
       "    }\n",
       "</style>\n",
       "<table border=\"1\" class=\"dataframe\">\n",
       "  <thead>\n",
       "    <tr style=\"text-align: right;\">\n",
       "      <th></th>\n",
       "      <th>Mass</th>\n",
       "      <th>Diameter</th>\n",
       "      <th>DayLength</th>\n",
       "    </tr>\n",
       "    <tr>\n",
       "      <th>Planet</th>\n",
       "      <th></th>\n",
       "      <th></th>\n",
       "      <th></th>\n",
       "    </tr>\n",
       "  </thead>\n",
       "  <tbody>\n",
       "    <tr>\n",
       "      <th>MERCURY</th>\n",
       "      <td>0.33</td>\n",
       "      <td>4879</td>\n",
       "      <td>4222.6</td>\n",
       "    </tr>\n",
       "    <tr>\n",
       "      <th>VENUS</th>\n",
       "      <td>4.87</td>\n",
       "      <td>12,104</td>\n",
       "      <td>2802.0</td>\n",
       "    </tr>\n",
       "    <tr>\n",
       "      <th>EARTH</th>\n",
       "      <td>5.97</td>\n",
       "      <td>12,756</td>\n",
       "      <td>24.0</td>\n",
       "    </tr>\n",
       "  </tbody>\n",
       "</table>\n",
       "</div>"
      ],
      "text/plain": [
       "         Mass Diameter  DayLength\n",
       "Planet                           \n",
       "MERCURY  0.33     4879     4222.6\n",
       "VENUS    4.87   12,104     2802.0\n",
       "EARTH    5.97   12,756       24.0"
      ]
     },
     "execution_count": 29,
     "metadata": {},
     "output_type": "execute_result"
    }
   ],
   "source": [
    "planets.loc['MERCURY':'EARTH']"
   ]
  },
  {
   "cell_type": "code",
   "execution_count": 30,
   "metadata": {},
   "outputs": [
    {
     "data": {
      "text/plain": [
       "Index(['Mass', 'Diameter', 'DayLength'], dtype='object')"
      ]
     },
     "execution_count": 30,
     "metadata": {},
     "output_type": "execute_result"
    }
   ],
   "source": [
    "planets.columns"
   ]
  },
  {
   "cell_type": "code",
   "execution_count": 31,
   "metadata": {},
   "outputs": [],
   "source": [
    "planets = pd.read_csv('Planets.csv')"
   ]
  },
  {
   "cell_type": "code",
   "execution_count": 32,
   "metadata": {},
   "outputs": [],
   "source": [
    "planets.set_index('Planet', inplace = True)"
   ]
  },
  {
   "cell_type": "code",
   "execution_count": 33,
   "metadata": {},
   "outputs": [
    {
     "data": {
      "text/plain": [
       "'1974-03-29'"
      ]
     },
     "execution_count": 33,
     "metadata": {},
     "output_type": "execute_result"
    }
   ],
   "source": [
    "planets.FirstVisited['MERCURY']"
   ]
  },
  {
   "cell_type": "code",
   "execution_count": 34,
   "metadata": {},
   "outputs": [
    {
     "data": {
      "text/plain": [
       "'1974-03-29'"
      ]
     },
     "execution_count": 34,
     "metadata": {},
     "output_type": "execute_result"
    }
   ],
   "source": [
    "planets.loc['MERCURY'].FirstVisited"
   ]
  },
  {
   "cell_type": "code",
   "execution_count": 35,
   "metadata": {},
   "outputs": [
    {
     "data": {
      "text/plain": [
       "'1974-03-29'"
      ]
     },
     "execution_count": 35,
     "metadata": {},
     "output_type": "execute_result"
    }
   ],
   "source": [
    "planets.loc['MERCURY','FirstVisited']"
   ]
  },
  {
   "cell_type": "code",
   "execution_count": 36,
   "metadata": {},
   "outputs": [
    {
     "data": {
      "text/plain": [
       "str"
      ]
     },
     "execution_count": 36,
     "metadata": {},
     "output_type": "execute_result"
    }
   ],
   "source": [
    "type(planets.loc['MERCURY','FirstVisited'])"
   ]
  },
  {
   "cell_type": "code",
   "execution_count": 37,
   "metadata": {},
   "outputs": [
    {
     "data": {
      "text/plain": [
       "Planet\n",
       "MERCURY   1974-03-29\n",
       "VENUS     1962-08-27\n",
       "EARTH            NaT\n",
       "MOON      1959-09-12\n",
       "MARS      1965-07-15\n",
       "JUPITER   1973-12-04\n",
       "SATURN    1979-09-01\n",
       "URANUS    1986-01-24\n",
       "NEPTUNE   1989-08-25\n",
       "PLUTO     2015-07-14\n",
       "Name: FirstVisited, dtype: datetime64[ns]"
      ]
     },
     "execution_count": 37,
     "metadata": {},
     "output_type": "execute_result"
    }
   ],
   "source": [
    "pd.to_datetime(planets.FirstVisited)"
   ]
  },
  {
   "cell_type": "code",
   "execution_count": 38,
   "metadata": {},
   "outputs": [],
   "source": [
    "planets.FirstVisited = pd.to_datetime(planets.FirstVisited)"
   ]
  },
  {
   "cell_type": "code",
   "execution_count": 40,
   "metadata": {},
   "outputs": [
    {
     "data": {
      "text/plain": [
       "Planet\n",
       "MERCURY    1974.0\n",
       "VENUS      1962.0\n",
       "EARTH         NaN\n",
       "MOON       1959.0\n",
       "MARS       1965.0\n",
       "JUPITER    1973.0\n",
       "SATURN     1979.0\n",
       "URANUS     1986.0\n",
       "NEPTUNE    1989.0\n",
       "PLUTO      2015.0\n",
       "Name: FirstVisited, dtype: float64"
      ]
     },
     "execution_count": 40,
     "metadata": {},
     "output_type": "execute_result"
    }
   ],
   "source": [
    "planets.FirstVisited.dt.year"
   ]
  },
  {
   "cell_type": "code",
   "execution_count": 41,
   "metadata": {},
   "outputs": [
    {
     "data": {
      "text/plain": [
       "Planet\n",
       "MERCURY    44.0\n",
       "VENUS      56.0\n",
       "EARTH       NaN\n",
       "MOON       59.0\n",
       "MARS       53.0\n",
       "JUPITER    45.0\n",
       "SATURN     39.0\n",
       "URANUS     32.0\n",
       "NEPTUNE    29.0\n",
       "PLUTO       3.0\n",
       "Name: FirstVisited, dtype: float64"
      ]
     },
     "execution_count": 41,
     "metadata": {},
     "output_type": "execute_result"
    }
   ],
   "source": [
    "2018 - planets.FirstVisited.dt.year"
   ]
  },
  {
   "cell_type": "code",
   "execution_count": null,
   "metadata": {},
   "outputs": [],
   "source": []
  }
 ],
 "metadata": {
  "kernelspec": {
   "display_name": "Python 3",
   "language": "python",
   "name": "python3"
  },
  "language_info": {
   "codemirror_mode": {
    "name": "ipython",
    "version": 3
   },
   "file_extension": ".py",
   "mimetype": "text/x-python",
   "name": "python",
   "nbconvert_exporter": "python",
   "pygments_lexer": "ipython3",
   "version": "3.8.5"
  },
  "toc": {
   "base_numbering": 1,
   "nav_menu": {},
   "number_sections": true,
   "sideBar": true,
   "skip_h1_title": false,
   "title_cell": "Table of Contents",
   "title_sidebar": "Contents",
   "toc_cell": false,
   "toc_position": {},
   "toc_section_display": true,
   "toc_window_display": false
  }
 },
 "nbformat": 4,
 "nbformat_minor": 2
}
